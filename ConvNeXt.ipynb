{
 "cells": [
  {
   "cell_type": "code",
   "execution_count": 2,
   "metadata": {},
   "outputs": [],
   "source": [
    "import cv2\n",
    "import time\n",
    "import tensorflow as tf\n",
    "import os\n",
    "from keras import layers\n",
    "from keras import models\n",
    "import tensorflow as tf\n",
    "from keras.src.activations.activations import gelu\n",
    "\n",
    "#TensorflowのInfoとWarningを非表示\n",
    "os.environ['TF_CPP_MIN_LOG_LEVEL'] = '2'\n",
    "\n",
    "\n",
    "image_dir = r'C:\\Users\\ishigaki\\Downloads\\archive\\Original Images\\Original Images' # ローカルの画像データファイルパス"
   ]
  },
  {
   "cell_type": "code",
   "execution_count": 3,
   "metadata": {},
   "outputs": [
    {
     "name": "stdout",
     "output_type": "stream",
     "text": [
      "Using Haar Cascade path: data\\haarcascade_frontalface_default.xml\n"
     ]
    }
   ],
   "source": [
    "processed_images = []\n",
    "labels = []\n",
    "label_name = []\n",
    "haarcascade_path = r'data\\haarcascade_frontalface_default.xml'\n",
    "print(\"Using Haar Cascade path:\", haarcascade_path)\n",
    "if not os.path.exists(haarcascade_path):\n",
    "    raise FileNotFoundError(f'Haar Cascade XML file not found at {haarcascade_path}')\n",
    "face_cascade = cv2.CascadeClassifier(haarcascade_path)"
   ]
  },
  {
   "cell_type": "code",
   "execution_count": 4,
   "metadata": {},
   "outputs": [
    {
     "ename": "KeyboardInterrupt",
     "evalue": "",
     "output_type": "error",
     "traceback": [
      "\u001b[1;31m---------------------------------------------------------------------------\u001b[0m",
      "\u001b[1;31mKeyboardInterrupt\u001b[0m                         Traceback (most recent call last)",
      "Cell \u001b[1;32mIn[4], line 12\u001b[0m\n\u001b[0;32m     10\u001b[0m image \u001b[38;5;241m=\u001b[39m cv2\u001b[38;5;241m.\u001b[39mimread(image_path)\n\u001b[0;32m     11\u001b[0m gray_image \u001b[38;5;241m=\u001b[39m cv2\u001b[38;5;241m.\u001b[39mcvtColor(image, cv2\u001b[38;5;241m.\u001b[39mCOLOR_BGR2GRAY)\n\u001b[1;32m---> 12\u001b[0m faces \u001b[38;5;241m=\u001b[39m \u001b[43mface_cascade\u001b[49m\u001b[38;5;241;43m.\u001b[39;49m\u001b[43mdetectMultiScale\u001b[49m\u001b[43m(\u001b[49m\u001b[43mgray_image\u001b[49m\u001b[43m,\u001b[49m\u001b[43m \u001b[49m\u001b[43mscaleFactor\u001b[49m\u001b[38;5;241;43m=\u001b[39;49m\u001b[38;5;241;43m1.1\u001b[39;49m\u001b[43m,\u001b[49m\u001b[43m \u001b[49m\u001b[43mminNeighbors\u001b[49m\u001b[38;5;241;43m=\u001b[39;49m\u001b[38;5;241;43m5\u001b[39;49m\u001b[43m)\u001b[49m\n\u001b[0;32m     14\u001b[0m \u001b[38;5;28;01mfor\u001b[39;00m (x, y, w, h) \u001b[38;5;129;01min\u001b[39;00m faces:\n\u001b[0;32m     15\u001b[0m     face \u001b[38;5;241m=\u001b[39m gray_image[y:y\u001b[38;5;241m+\u001b[39mh, x:x\u001b[38;5;241m+\u001b[39mw]\n",
      "\u001b[1;31mKeyboardInterrupt\u001b[0m: "
     ]
    }
   ],
   "source": [
    "from keras.src.utils.numerical_utils import to_categorical\n",
    "\n",
    "for label, person_name in enumerate(os.listdir(image_dir)):\n",
    "    person_dir = os.path.join(image_dir, person_name)\n",
    "    if not os.path.isdir(person_dir):\n",
    "        continue\n",
    "\n",
    "    for image_name in os.listdir(person_dir):\n",
    "        image_path = os.path.join(person_dir, image_name)\n",
    "        image = cv2.imread(image_path)\n",
    "        gray_image = cv2.cvtColor(image, cv2.COLOR_BGR2GRAY)\n",
    "        faces = face_cascade.detectMultiScale(gray_image, scaleFactor=1.1, minNeighbors=5)\n",
    "\n",
    "        for (x, y, w, h) in faces:\n",
    "            face = gray_image[y:y+h, x:x+w]\n",
    "            resized_face = cv2.resize(face, (128, 128))\n",
    "            processed_images.append(resized_face)\n",
    "            labels.append(label)\n",
    "    label_name.append(person_name)\n",
    "    \n",
    "labels = to_categorical(labels)"
   ]
  },
  {
   "cell_type": "code",
   "execution_count": null,
   "metadata": {},
   "outputs": [],
   "source": [
    "AUTOTUNE = tf.data.AUTOTUNE\n",
    "BATCH_SIZE = 256\n",
    "\n",
    "# 前処理\n",
    "def preprocess(image, label):\n",
    "    image = tf.image.convert_image_dtype(image, tf.float32)\n",
    "    label = tf.cast(label, tf.int32)\n",
    "    return image, label\n",
    "\n",
    "# データ拡張\n",
    "def augmentation(image, label):   \n",
    "    image = tf.image.resize_with_crop_or_pad(image, 40, 40)\n",
    "    image = tf.image.random_crop(image, size = [32, 32, 3])\n",
    "    image = tf.image.random_brightness(image, max_delta = 0.5)\n",
    "    image = tf.clip_by_value(image, 0.0, 1.0)\n",
    "    return image, label\n",
    "\n",
    "train_data = tf.data.Dataset.from_tensor_slices((x_train, y_train))\n",
    "\n",
    "train_data = train_data.shuffle(1024)\n",
    "train_data = train_data.map(preprocess, num_parallel_calls = AUTOTUNE)\n",
    "train_data = train_data.map(augmentation, num_parallel_calls = AUTOTUNE)\n",
    "train_data = train_data.batch(BATCH_SIZE)\n",
    "train_data = train_data.prefetch(AUTOTUNE)\n",
    "\n",
    "test_data = tf.data.Dataset.from_tensor_slices((x_test, y_test))\n",
    "test_data = test_data.map(preprocess, num_parallel_calls = AUTOTUNE)\n",
    "test_data = test_data.batch(BATCH_SIZE)\n",
    "test_data = test_data.prefetch(AUTOTUNE)\n",
    "\n"
   ]
  },
  {
   "cell_type": "code",
   "execution_count": null,
   "metadata": {},
   "outputs": [],
   "source": [
    "import tensorflow_addons as tfa\n",
    "\n",
    "class ConvNeXt_Block(tf.keras.Layer):\n",
    "    def __init__(self, in_channels, out_channels, factor):\n",
    "        super().__init__()\n",
    "\n",
    "        #ConvNeXtブロック1層目\n",
    "        #ConvからDepthwiseConvへ変更しています。\n",
    "        self.layer_1 = layers.DepthwiseConv2D(kernel_size = (7, 7), strides = (1, 1), padding = 'same', use_bias = False)\n",
    "        \n",
    "        #ConvNeXtブロック2層目\n",
    "        #正規化をBatchNormalizationからLayerNormalizationへ変更しています。\n",
    "        self.layer_2 = layers.LayerNormalization(epsion = 1e-6)\n",
    "        #チャンネル数が4倍大きくなるInverted Bottleneck構造に変更しています。\n",
    "        self.layer_3 = layers.Conv2D(4 * out_channels, kernel_size = 1, strides = 1, padding = 'valid', use_bias = False)\n",
    "\n",
    "        #ConvNeXtブロック3層目\n",
    "        #活性化関数をReLUからGELUに変更しています。\n",
    "        self.layer_4 = layers.Activation(tf.nn.gelu)\n",
    "        self.layer_5 = layers.Conv2D(out_channels, kernel_size = 1, strides = 1, padding = 'valid', use_bias = False)\n",
    "\n",
    "        self.layer_6 = layers.LayerNormalization(epsilon = 1e-6)\n",
    "        self.layer_7 = layers.Activation('linear')\n",
    "\n",
    "        self.shortcut = self.short_cut(in_channels, out_channels)\n",
    "        #StochasticDepthでランダムにショートカットのみとしています。\n",
    "        self.stochastic = tfa.layers.StochasticDepth(factor)\n",
    "\n",
    "    def short_cut(self, in_channels, out_channels):\n",
    "        #ショートカットとの残差出力の際にチャンネル数が異なる場合は、ショートカットと合わせます。\n",
    "        if in_channels != out_channels:\n",
    "            self.ln_sc = layers.LayerNormalization()\n",
    "            self.conv_sc = layers.Conv2D(out_channels, kernel_size = 1, strides = 1, padding = 'same', use_bias = False)\n",
    "            return self.conv_sc\n",
    "        else:\n",
    "            return lambda x: x\n",
    "\n",
    "    def call(self, x):\n",
    "        shortcut = self.shortcut(x)\n",
    "        x = self.layer_1(x)\n",
    "        x = self.layer_2(x)\n",
    "        x = self.layer_3(x)\n",
    "        x = self.layer_4(x)\n",
    "        x = self.layer_5(x)\n",
    "        x = self.layer_6(x)\n",
    "        x = self.layer_7(x)\n",
    "        x = self.stochastic([x, shortcut])\n",
    "        return x"
   ]
  },
  {
   "cell_type": "markdown",
   "metadata": {},
   "source": [
    "# 最後に、ConvNeXt Blockを用いてConvNeXtモデルを構築します。ConvNeXtの階層構造は、ステージごとにConvNeXt Blockが（3, 3, 9, 3）となります。また、各ステージ間にダウンサンプリング層を追加しています。"
   ]
  },
  {
   "cell_type": "code",
   "execution_count": null,
   "metadata": {},
   "outputs": [],
   "source": [
    "class ConvNeXt(tf.keras.Model):\n",
    "    def __init__(self, input_shape, output_dim):\n",
    "        super().__init__()\n",
    "\n",
    "        #STEM\n",
    "        self.ln_pre = layers.LayerNormalization(epsilon = 1e-6)\n",
    "        self.stem = layers.Conv2D(96, kernel_size = 4, strides = 4, use_bias = False, input_shape = input_shape)\n",
    "\n",
    "        #ステージ1\n",
    "        self.stage_1 = [ConvNeXt_Block(96, 96, 0.1) for _ in range(3)]\n",
    "\n",
    "        #ダウンサンプリング層\n",
    "        self.ln_1 = layers.LayerNormalization(epsilon = 1e-6)\n",
    "        self.ds_1 = layers.Conv2D(192, kernel_size = 2, strides = 2, use_bias = False)\n",
    "\n",
    "        #ステージ2\n",
    "        self.stage_2 = [ConvNeXt_Block(192, 192, 0.1) for _ in range(3)]\n",
    "\n",
    "        #ダウンサンプリング層\n",
    "        self.ln_2 = layers.LayerNormalization(epsilon = 1e-6)\n",
    "        self.ds_2 = layers.Conv2D(384, kernel_size = 2, strides = 2, use_bias = False)\n",
    "        \n",
    "        #ステージ3\n",
    "        self.stage_3 = [ConvNeXt_Block(384, 384, 0.2) for _ in range(9)]\n",
    "\n",
    "        #ダウンサンプリング層\n",
    "        self.ln_3 = layers.LayerNormalization(epsilon = 1e-6)\n",
    "        self.ds_3 = layers.Conv2D(768, kernel_size = 2, strides = 2, use_bias = False)\n",
    "\n",
    "        #ステージ4\n",
    "        self.stage_4 = [ConvNeXt_Block(768, 768, 0.3) for _ in range(3)]\n",
    "\n",
    "        self.pooling = layers.GlobalAveragePooling2D()\n",
    "        self.ln_4 = layers.LayerNormalization(epsilon = 1e-6)\n",
    "        self.activation = layers.Dense(output_dim, activation = 'softmax')\n",
    "\n",
    "\n",
    "    def call(self, x):\n",
    "        x = self.stem(self.ln_pre(x))\n",
    "        for layer in self.stage_1:\n",
    "            x = layer(x)\n",
    "        x = self.ds_1(self.ln_1(x))\n",
    "        for layer in self.stage_2:\n",
    "            x = layer(x)\n",
    "        x = self.ds_2(self.ln_2(x))\n",
    "        for layer in self.stage_3:\n",
    "            x = layer(x)\n",
    "        x = self.ds_3(self.ln_3(x))\n",
    "        for layer in self.stage_4:\n",
    "            x = layer(x)\n",
    "        x = self.activation(self.ln_4(self.pooling(x)))\n",
    "        \n",
    "        return x\n"
   ]
  },
  {
   "cell_type": "code",
   "execution_count": null,
   "metadata": {},
   "outputs": [],
   "source": [
    "model = ConvNeXt((32, 32, 3), 10)\n",
    "model.build(input_shape = (None, 32, 32, 3))\n",
    "model.compile(\n",
    "    optimizer = AdamW(learning_rate = 0.001, weight_decay = 0.004),\n",
    "    loss = tf.keras.losses.CategoricalCrossentropy(label_smoothing = 0.1),\n",
    "    metrics = ['accuracy']\n",
    ")\n"
   ]
  },
  {
   "cell_type": "code",
   "execution_count": null,
   "metadata": {},
   "outputs": [],
   "source": [
    "model.fit(\n",
    "    train_data,\n",
    "    epochs = 200\n",
    ")\n"
   ]
  },
  {
   "cell_type": "code",
   "execution_count": null,
   "metadata": {},
   "outputs": [],
   "source": [
    "result = model.evaluate(test_data)\n",
    "print('test accuracy:{}%'.format(round(result[1] * 100,2)))\n"
   ]
  }
 ],
 "metadata": {
  "kernelspec": {
   "display_name": "venv",
   "language": "python",
   "name": "python3"
  },
  "language_info": {
   "codemirror_mode": {
    "name": "ipython",
    "version": 3
   },
   "file_extension": ".py",
   "mimetype": "text/x-python",
   "name": "python",
   "nbconvert_exporter": "python",
   "pygments_lexer": "ipython3",
   "version": "3.11.9"
  }
 },
 "nbformat": 4,
 "nbformat_minor": 2
}
