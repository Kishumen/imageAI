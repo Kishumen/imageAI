{
 "cells": [
  {
   "cell_type": "code",
   "execution_count": null,
   "metadata": {},
   "outputs": [],
   "source": [
    "import cv2\n",
    "import time\n",
    "import tensorflow as tf\n",
    "import os\n",
    "from keras import layers\n",
    "from keras import models\n",
    "import tensorflow_addons as tfa\n",
    "\n",
    "#TensorflowのInfoとWarningを非表示\n",
    "os.environ['TF_CPP_MIN_LOG_LEVEL'] = '2'\n",
    "\n",
    "\n",
    "image_dir = r'C:\\Users\\ishigaki\\Downloads\\archive\\Original Images\\Original Images' # ローカルの画像データファイルパス"
   ]
  },
  {
   "cell_type": "code",
   "execution_count": null,
   "metadata": {},
   "outputs": [],
   "source": [
    "processed_images = []\n",
    "labels = []\n",
    "label_name = []\n",
    "haarcascade_path = r'data\\haarcascade_frontalface_default.xml'\n",
    "face_cascade = cv2.CascadeClassifier(haarcascade_path)\n",
    "print(\"Using Haar Cascade path:\", haarcascade_path)\n",
    "if not os.path.exists(haarcascade_path):\n",
    "    raise FileNotFoundError(f'Haar Cascade XML file not found at {haarcascade_path}')\n",
    "face_cascade = cv2.CascadeClassifier(haarcascade_path)"
   ]
  },
  {
   "cell_type": "code",
   "execution_count": null,
   "metadata": {},
   "outputs": [],
   "source": [
    "for label, person_name in enumerate(os.listdir(image_dir)):\n",
    "    person_dir = os.path.join(image_dir, person_name)\n",
    "    if not os.path.isdir(person_dir):\n",
    "        continue\n",
    "\n",
    "    for image_name in os.listdir(person_dir):\n",
    "        image_path = os.path.join(person_dir, image_name)\n",
    "        image = cv2.imread(image_path)\n",
    "        gray_image = cv2.cvtColor(image, cv2.COLOR_BGR2GRAY)\n",
    "        faces = face_cascade.detectMultiScale(gray_image, scaleFactor=1.1, minNeighbors=5)\n",
    "\n",
    "        for (x, y, w, h) in faces:\n",
    "            face = gray_image[y:y+h, x:x+w]\n",
    "            resized_face = cv2.resize(face, (128, 128))\n",
    "            processed_images.append(resized_face)\n",
    "            labels.append(label)\n",
    "    label_name.append(person_name)"
   ]
  }
 ],
 "metadata": {
  "kernelspec": {
   "display_name": "venv",
   "language": "python",
   "name": "python3"
  },
  "language_info": {
   "name": "python",
   "version": "3.11.9"
  }
 },
 "nbformat": 4,
 "nbformat_minor": 2
}
